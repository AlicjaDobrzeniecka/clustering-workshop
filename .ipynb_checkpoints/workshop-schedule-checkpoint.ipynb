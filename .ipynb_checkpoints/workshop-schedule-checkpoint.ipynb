{
 "cells": [
  {
   "cell_type": "markdown",
   "metadata": {},
   "source": [
    "# Plan prezentacji i warsztatu"
   ]
  },
  {
   "cell_type": "code",
   "execution_count": null,
   "metadata": {},
   "outputs": [],
   "source": [
    "1. Post na grupę Data Science PG ! (5.04.2019)"
   ]
  },
  {
   "cell_type": "code",
   "execution_count": null,
   "metadata": {},
   "outputs": [],
   "source": [
    "Część teoretyczna:\n",
    "\n",
    "- po co to robimy? efektem warsztatu ma być\n",
    "\n",
    "1. teoria na temat uczenia bez nadzoru\n",
    "2. praktyka pythona w jupyter notebook\n",
    "3. przygotowanie do samodzielnego projektu uzywając danych z kaggle.com"
   ]
  },
  {
   "cell_type": "code",
   "execution_count": null,
   "metadata": {},
   "outputs": [],
   "source": [
    "Początek:\n",
    "\n",
    "-kaggle\n",
    "\n",
    "\n",
    "\n",
    "\n",
    "Koniec:\n",
    "    \n",
    "-kaggle"
   ]
  },
  {
   "cell_type": "code",
   "execution_count": null,
   "metadata": {},
   "outputs": [],
   "source": [
    "Dodatki:\n",
    "    \n",
    "-slajd z wizualizacja video jak zmienia sie klaster z czasem\n",
    "-na koniec czesci teoretycznej link z gita z materialami"
   ]
  },
  {
   "cell_type": "code",
   "execution_count": null,
   "metadata": {},
   "outputs": [],
   "source": [
    "Czas:\n",
    "    \n",
    "30 min teoria\n",
    "45 praktyka"
   ]
  },
  {
   "cell_type": "code",
   "execution_count": null,
   "metadata": {},
   "outputs": [],
   "source": []
  },
  {
   "cell_type": "code",
   "execution_count": null,
   "metadata": {},
   "outputs": [],
   "source": [
    "Praktyka:\n",
    "-pokazanie jak pobrac z githuba materialy\n",
    "-"
   ]
  }
 ],
 "metadata": {
  "kernelspec": {
   "display_name": "Python 3",
   "language": "python",
   "name": "python3"
  },
  "language_info": {
   "codemirror_mode": {
    "name": "ipython",
    "version": 3
   },
   "file_extension": ".py",
   "mimetype": "text/x-python",
   "name": "python",
   "nbconvert_exporter": "python",
   "pygments_lexer": "ipython3",
   "version": "3.6.5"
  },
  "toc": {
   "base_numbering": 1,
   "nav_menu": {},
   "number_sections": true,
   "sideBar": true,
   "skip_h1_title": false,
   "title_cell": "Table of Contents",
   "title_sidebar": "Contents",
   "toc_cell": false,
   "toc_position": {},
   "toc_section_display": true,
   "toc_window_display": false
  }
 },
 "nbformat": 4,
 "nbformat_minor": 2
}
